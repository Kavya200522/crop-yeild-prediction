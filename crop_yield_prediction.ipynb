# Crop Yield Prediction Notebook
# Open in Jupyter and paste the provided code from ChatGPT
